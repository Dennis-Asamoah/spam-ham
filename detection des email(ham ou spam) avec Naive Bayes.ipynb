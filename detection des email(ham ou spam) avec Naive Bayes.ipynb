{
 "cells": [
  {
   "cell_type": "code",
   "execution_count": 99,
   "metadata": {
    "collapsed": true
   },
   "outputs": [
    {
     "data": {
      "text/plain": [
       "\"\\nCe projet focalise sur l'utilisation d'un nlp pour detecter  si un email est ham(bon email) ou bien spam \\nspam(email avec envoye avec intention mauvaise). \\n\\nL'algorithm la plus efficace pour ce type de travail est l'algorithme de Naive-Bayes\\n          P(B/A)*P(A)\\n P(A|B) = -----------\\n            P(B)\\n       \\n\\nL'algorithme de Naives-Bayes  consiste 3 type:\\n\\n1.Binomial Naive Bayes\\n2.Multinomial Naive Bayes \\n3.Gaussian Naive-Bayes\\n\\nPour Notre Projet , Multiomial est le plus favorable.\\n\\nMais pourquoi?\\n\\n\\n\""
      ]
     },
     "execution_count": 99,
     "metadata": {},
     "output_type": "execute_result"
    }
   ],
   "source": [
    "'''\n",
    "Ce projet focalise sur l'utilisation d'un nlp pour detecter  si un email est ham(bon email) ou bien spam \n",
    "spam(email avec envoye avec intention mauvaise). \n",
    "\n",
    "L'algorithm la plus efficace pour ce type de travail est l'algorithme de Naive-Bayes\n",
    "          P(B/A)*P(A)\n",
    " P(A|B) = -----------\n",
    "            P(B)\n",
    "       \n",
    "\n",
    "L'algorithme de Naives-Bayes  consiste 3 type:\n",
    "\n",
    "1.Binomial Naive Bayes\n",
    "2.Multinomial Naive Bayes \n",
    "3.Gaussian Naive-Bayes\n",
    "\n",
    "Pour Notre Projet , Multiomial est le plus favorable.\n",
    "\n",
    "\n",
    "\n",
    "'''"
   ]
  },
  {
   "cell_type": "code",
   "execution_count": 102,
   "metadata": {
    "collapsed": true
   },
   "outputs": [
    {
     "data": {
      "text/plain": [
       "'\\nDans ce projet on va utilise python3.7\\nle bibliotheques on va utlise sont :\\npandas== pour interroger notre file csv\\nscikit(sklearn)===Nous donne beaucoup des algorithme. On va trouver notre Algoritme(MultinomialNB) ici \\nmatplotlib === pour les graphes\\n\\n'"
      ]
     },
     "execution_count": 102,
     "metadata": {},
     "output_type": "execute_result"
    }
   ],
   "source": [
    "'''\n",
    "Dans ce projet on va utilise python3.7\n",
    "le bibliotheques on va utlise sont :\n",
    "pandas== pour interroger notre file csv\n",
    "scikit(sklearn)===Nous donne beaucoup des algorithme. On va trouver notre Algoritme(MultinomialNB) ici \n",
    "matplotlib === pour les graphes\n",
    "\n",
    "'''"
   ]
  },
  {
   "cell_type": "code",
   "execution_count": null,
   "metadata": {},
   "outputs": [],
   "source": [
    "'''\n",
    "pour le datasets , on a pas reussi a trouver des datasets en francais. Alors on a utilise le datasets d'anglais \n",
    "qui etais trouver dans le site kaggle(https://www.kaggle.com/).\n",
    "la taille de le dataset est 489KB\n",
    "\n",
    "'''"
   ]
  },
  {
   "cell_type": "code",
   "execution_count": 106,
   "metadata": {},
   "outputs": [
    {
     "data": {
      "text/plain": [
       "pandas.core.frame.DataFrame"
      ]
     },
     "execution_count": 106,
     "metadata": {},
     "output_type": "execute_result"
    }
   ],
   "source": [
    "\n",
    "import pandas as pd  # on a importer pandas \n",
    "df=pd.read_csv('spam-ham.csv') # on  a utilise  pandas a ouvrier notre dataset \n",
    "# df  est un Dataframe qui est seulement le struture donne utilise par  pandas , il se comporte comme le strucyure de donne \n",
    "# \"dict\" de python\n",
    "# pour verifier \n",
    "type(df)"
   ]
  },
  {
   "cell_type": "code",
   "execution_count": 6,
   "metadata": {},
   "outputs": [
    {
     "data": {
      "text/html": [
       "<div>\n",
       "<style scoped>\n",
       "    .dataframe tbody tr th:only-of-type {\n",
       "        vertical-align: middle;\n",
       "    }\n",
       "\n",
       "    .dataframe tbody tr th {\n",
       "        vertical-align: top;\n",
       "    }\n",
       "\n",
       "    .dataframe thead th {\n",
       "        text-align: right;\n",
       "    }\n",
       "</style>\n",
       "<table border=\"1\" class=\"dataframe\">\n",
       "  <thead>\n",
       "    <tr style=\"text-align: right;\">\n",
       "      <th></th>\n",
       "      <th>type</th>\n",
       "      <th>text</th>\n",
       "    </tr>\n",
       "  </thead>\n",
       "  <tbody>\n",
       "    <tr>\n",
       "      <th>0</th>\n",
       "      <td>ham</td>\n",
       "      <td>Go until jurong point, crazy.. Available only ...</td>\n",
       "    </tr>\n",
       "    <tr>\n",
       "      <th>1</th>\n",
       "      <td>ham</td>\n",
       "      <td>Ok lar... Joking wif u oni...</td>\n",
       "    </tr>\n",
       "    <tr>\n",
       "      <th>2</th>\n",
       "      <td>spam</td>\n",
       "      <td>Free entry in 2 a wkly comp to win FA Cup fina...</td>\n",
       "    </tr>\n",
       "    <tr>\n",
       "      <th>3</th>\n",
       "      <td>ham</td>\n",
       "      <td>U dun say so early hor... U c already then say...</td>\n",
       "    </tr>\n",
       "    <tr>\n",
       "      <th>4</th>\n",
       "      <td>ham</td>\n",
       "      <td>Nah I don't think he goes to usf, he lives aro...</td>\n",
       "    </tr>\n",
       "  </tbody>\n",
       "</table>\n",
       "</div>"
      ],
      "text/plain": [
       "   type                                               text\n",
       "0   ham  Go until jurong point, crazy.. Available only ...\n",
       "1   ham                      Ok lar... Joking wif u oni...\n",
       "2  spam  Free entry in 2 a wkly comp to win FA Cup fina...\n",
       "3   ham  U dun say so early hor... U c already then say...\n",
       "4   ham  Nah I don't think he goes to usf, he lives aro..."
      ]
     },
     "execution_count": 6,
     "metadata": {},
     "output_type": "execute_result"
    }
   ],
   "source": [
    "df.head() # le attribute head nous donne les premiers 5 de notre dataset"
   ]
  },
  {
   "cell_type": "code",
   "execution_count": 7,
   "metadata": {},
   "outputs": [
    {
     "data": {
      "text/html": [
       "<div>\n",
       "<style scoped>\n",
       "    .dataframe tbody tr th:only-of-type {\n",
       "        vertical-align: middle;\n",
       "    }\n",
       "\n",
       "    .dataframe tbody tr th {\n",
       "        vertical-align: top;\n",
       "    }\n",
       "\n",
       "    .dataframe thead th {\n",
       "        text-align: right;\n",
       "    }\n",
       "</style>\n",
       "<table border=\"1\" class=\"dataframe\">\n",
       "  <thead>\n",
       "    <tr style=\"text-align: right;\">\n",
       "      <th></th>\n",
       "      <th>type</th>\n",
       "      <th>text</th>\n",
       "    </tr>\n",
       "  </thead>\n",
       "  <tbody>\n",
       "    <tr>\n",
       "      <th>5569</th>\n",
       "      <td>spam</td>\n",
       "      <td>This is the 2nd time we have tried 2 contact u...</td>\n",
       "    </tr>\n",
       "    <tr>\n",
       "      <th>5570</th>\n",
       "      <td>ham</td>\n",
       "      <td>Will ü b going to esplanade fr home?</td>\n",
       "    </tr>\n",
       "    <tr>\n",
       "      <th>5571</th>\n",
       "      <td>ham</td>\n",
       "      <td>Pity, * was in mood for that. So...any other s...</td>\n",
       "    </tr>\n",
       "    <tr>\n",
       "      <th>5572</th>\n",
       "      <td>ham</td>\n",
       "      <td>The guy did some bitching but I acted like i'd...</td>\n",
       "    </tr>\n",
       "    <tr>\n",
       "      <th>5573</th>\n",
       "      <td>ham</td>\n",
       "      <td>Rofl. Its true to its name</td>\n",
       "    </tr>\n",
       "  </tbody>\n",
       "</table>\n",
       "</div>"
      ],
      "text/plain": [
       "      type                                               text\n",
       "5569  spam  This is the 2nd time we have tried 2 contact u...\n",
       "5570   ham               Will ü b going to esplanade fr home?\n",
       "5571   ham  Pity, * was in mood for that. So...any other s...\n",
       "5572   ham  The guy did some bitching but I acted like i'd...\n",
       "5573   ham                         Rofl. Its true to its name"
      ]
     },
     "execution_count": 7,
     "metadata": {},
     "output_type": "execute_result"
    }
   ],
   "source": [
    "df.tail() # le denier 5 des notres dataset"
   ]
  },
  {
   "cell_type": "code",
   "execution_count": 107,
   "metadata": {},
   "outputs": [
    {
     "data": {
      "text/plain": [
       "RangeIndex(start=0, stop=5574, step=1)"
      ]
     },
     "execution_count": 107,
     "metadata": {},
     "output_type": "execute_result"
    }
   ],
   "source": [
    "df.index # indique le nobre de lignes dans notre dataset\n",
    "# qui est 5574"
   ]
  },
  {
   "cell_type": "code",
   "execution_count": 17,
   "metadata": {},
   "outputs": [
    {
     "data": {
      "text/plain": [
       "Index(['type', 'text'], dtype='object')"
      ]
     },
     "execution_count": 17,
     "metadata": {},
     "output_type": "execute_result"
    }
   ],
   "source": [
    "df.columns # pour voir le colonnes \n",
    "# dans notre cas \n",
    "# type et le text"
   ]
  },
  {
   "cell_type": "code",
   "execution_count": 10,
   "metadata": {},
   "outputs": [
    {
     "data": {
      "text/plain": [
       "type    object\n",
       "text    object\n",
       "dtype: object"
      ]
     },
     "execution_count": 10,
     "metadata": {},
     "output_type": "execute_result"
    }
   ],
   "source": [
    "df.dtypes # le types de chaque colonnes"
   ]
  },
  {
   "cell_type": "code",
   "execution_count": 14,
   "metadata": {},
   "outputs": [
    {
     "data": {
      "text/plain": [
       "5564     ham\n",
       "5565     ham\n",
       "5566     ham\n",
       "5567     ham\n",
       "5568    spam\n",
       "5569    spam\n",
       "5570     ham\n",
       "5571     ham\n",
       "5572     ham\n",
       "5573     ham\n",
       "Name: type, dtype: object"
      ]
     },
     "execution_count": 14,
     "metadata": {},
     "output_type": "execute_result"
    }
   ],
   "source": [
    "df['type'][-10:]  # pour etudier notre csv \n",
    "#precisement, nous donne le dernier 10 elements des notre dataset"
   ]
  },
  {
   "cell_type": "code",
   "execution_count": 24,
   "metadata": {},
   "outputs": [
    {
     "data": {
      "text/html": [
       "<div>\n",
       "<style scoped>\n",
       "    .dataframe tbody tr th:only-of-type {\n",
       "        vertical-align: middle;\n",
       "    }\n",
       "\n",
       "    .dataframe tbody tr th {\n",
       "        vertical-align: top;\n",
       "    }\n",
       "\n",
       "    .dataframe thead th {\n",
       "        text-align: right;\n",
       "    }\n",
       "</style>\n",
       "<table border=\"1\" class=\"dataframe\">\n",
       "  <thead>\n",
       "    <tr style=\"text-align: right;\">\n",
       "      <th></th>\n",
       "      <th>text</th>\n",
       "      <th>type</th>\n",
       "    </tr>\n",
       "  </thead>\n",
       "  <tbody>\n",
       "    <tr>\n",
       "      <th>12</th>\n",
       "      <td>URGENT! You have won a 1 week FREE membership ...</td>\n",
       "      <td>spam</td>\n",
       "    </tr>\n",
       "    <tr>\n",
       "      <th>13</th>\n",
       "      <td>I've been searching for the right words to tha...</td>\n",
       "      <td>ham</td>\n",
       "    </tr>\n",
       "  </tbody>\n",
       "</table>\n",
       "</div>"
      ],
      "text/plain": [
       "                                                 text  type\n",
       "12  URGENT! You have won a 1 week FREE membership ...  spam\n",
       "13  I've been searching for the right words to tha...   ham"
      ]
     },
     "execution_count": 24,
     "metadata": {},
     "output_type": "execute_result"
    }
   ],
   "source": [
    "df.loc[12:13,['text','type']] # seulement pour interrogation\n",
    "# de notre dataset\n",
    "#loc nous permettre de facilement faire certaines operation"
   ]
  },
  {
   "cell_type": "code",
   "execution_count": null,
   "metadata": {},
   "outputs": [],
   "source": [
    "#Dans machine learning on peux pas utilise  des texts dans notre model\n",
    "#les algorithmes de machine learning comprends que des numeros\n",
    "#alors on doit convertir \n",
    "# le dependent 'type' a  numero \n",
    "# aussi les independent 'text' doit aussi etre convertir en numero "
   ]
  },
  {
   "cell_type": "code",
   "execution_count": 50,
   "metadata": {},
   "outputs": [
    {
     "data": {
      "text/html": [
       "<div>\n",
       "<style scoped>\n",
       "    .dataframe tbody tr th:only-of-type {\n",
       "        vertical-align: middle;\n",
       "    }\n",
       "\n",
       "    .dataframe tbody tr th {\n",
       "        vertical-align: top;\n",
       "    }\n",
       "\n",
       "    .dataframe thead th {\n",
       "        text-align: right;\n",
       "    }\n",
       "</style>\n",
       "<table border=\"1\" class=\"dataframe\">\n",
       "  <thead>\n",
       "    <tr style=\"text-align: right;\">\n",
       "      <th></th>\n",
       "      <th>type</th>\n",
       "      <th>text</th>\n",
       "      <th>spam</th>\n",
       "    </tr>\n",
       "  </thead>\n",
       "  <tbody>\n",
       "    <tr>\n",
       "      <th>0</th>\n",
       "      <td>ham</td>\n",
       "      <td>Go until jurong point, crazy.. Available only ...</td>\n",
       "      <td>0</td>\n",
       "    </tr>\n",
       "    <tr>\n",
       "      <th>1</th>\n",
       "      <td>ham</td>\n",
       "      <td>Ok lar... Joking wif u oni...</td>\n",
       "      <td>0</td>\n",
       "    </tr>\n",
       "    <tr>\n",
       "      <th>2</th>\n",
       "      <td>spam</td>\n",
       "      <td>Free entry in 2 a wkly comp to win FA Cup fina...</td>\n",
       "      <td>1</td>\n",
       "    </tr>\n",
       "    <tr>\n",
       "      <th>3</th>\n",
       "      <td>ham</td>\n",
       "      <td>U dun say so early hor... U c already then say...</td>\n",
       "      <td>0</td>\n",
       "    </tr>\n",
       "    <tr>\n",
       "      <th>4</th>\n",
       "      <td>ham</td>\n",
       "      <td>Nah I don't think he goes to usf, he lives aro...</td>\n",
       "      <td>0</td>\n",
       "    </tr>\n",
       "    <tr>\n",
       "      <th>...</th>\n",
       "      <td>...</td>\n",
       "      <td>...</td>\n",
       "      <td>...</td>\n",
       "    </tr>\n",
       "    <tr>\n",
       "      <th>5569</th>\n",
       "      <td>spam</td>\n",
       "      <td>This is the 2nd time we have tried 2 contact u...</td>\n",
       "      <td>1</td>\n",
       "    </tr>\n",
       "    <tr>\n",
       "      <th>5570</th>\n",
       "      <td>ham</td>\n",
       "      <td>Will ü b going to esplanade fr home?</td>\n",
       "      <td>0</td>\n",
       "    </tr>\n",
       "    <tr>\n",
       "      <th>5571</th>\n",
       "      <td>ham</td>\n",
       "      <td>Pity, * was in mood for that. So...any other s...</td>\n",
       "      <td>0</td>\n",
       "    </tr>\n",
       "    <tr>\n",
       "      <th>5572</th>\n",
       "      <td>ham</td>\n",
       "      <td>The guy did some bitching but I acted like i'd...</td>\n",
       "      <td>0</td>\n",
       "    </tr>\n",
       "    <tr>\n",
       "      <th>5573</th>\n",
       "      <td>ham</td>\n",
       "      <td>Rofl. Its true to its name</td>\n",
       "      <td>0</td>\n",
       "    </tr>\n",
       "  </tbody>\n",
       "</table>\n",
       "<p>5574 rows × 3 columns</p>\n",
       "</div>"
      ],
      "text/plain": [
       "      type                                               text  spam\n",
       "0      ham  Go until jurong point, crazy.. Available only ...     0\n",
       "1      ham                      Ok lar... Joking wif u oni...     0\n",
       "2     spam  Free entry in 2 a wkly comp to win FA Cup fina...     1\n",
       "3      ham  U dun say so early hor... U c already then say...     0\n",
       "4      ham  Nah I don't think he goes to usf, he lives aro...     0\n",
       "...    ...                                                ...   ...\n",
       "5569  spam  This is the 2nd time we have tried 2 contact u...     1\n",
       "5570   ham               Will ü b going to esplanade fr home?     0\n",
       "5571   ham  Pity, * was in mood for that. So...any other s...     0\n",
       "5572   ham  The guy did some bitching but I acted like i'd...     0\n",
       "5573   ham                         Rofl. Its true to its name     0\n",
       "\n",
       "[5574 rows x 3 columns]"
      ]
     },
     "execution_count": 50,
     "metadata": {},
     "output_type": "execute_result"
    }
   ],
   "source": [
    "# on commence avec  le dependant \n",
    "# si le email est spam on le represet pas 1\n",
    "#sinon pas 0\n",
    " \n",
    "\n",
    "df['spam']=df['type'].apply(lambda x:1 if x=='spam' else 0)#ici on a cre un notre champ spam  qui \n",
    "#vas contenir 0 pour ham et 1 pour spam \n",
    "#on a applique  a df['type'] un fonction lambda qui nous donne 1  quand il voit spam sinon 0\n",
    "\n",
    "df# on visualise notre nouveau dataframe\n",
    "#on voit le nouveau champ spam\n"
   ]
  },
  {
   "cell_type": "code",
   "execution_count": null,
   "metadata": {},
   "outputs": [],
   "source": [
    "#on doit aussi convertir notre \n",
    "#text dans un array des nombres\n",
    "#et pour faire ca \n",
    "#on vas utiliser le \n",
    "#CountVectorizer  qui peut etre trouver dans sklearn.feature extraction\n"
   ]
  },
  {
   "cell_type": "code",
   "execution_count": 112,
   "metadata": {},
   "outputs": [
    {
     "name": "stdout",
     "output_type": "stream",
     "text": [
      "dict_keys(['maroc', 'a', 'beautiful', 'country', 'with', 'history'])\n",
      "dict_values([1, 2, 2, 1, 1, 1])\n"
     ]
    },
    {
     "data": {
      "image/png": "[encoded data removed]",
      "text/plain": [
       "<Figure size 720x576 with 1 Axes>"
      ]
     },
     "metadata": {
      "needs_background": "light"
     },
     "output_type": "display_data"
    }
   ],
   "source": [
    "#comment le CountVectorizer marche?\n",
    "#comment il converti les text \n",
    "\n",
    "#on prends ces mot\n",
    "# ''''''maroc a beautiful country with a beautiful history''''''\n",
    "#\n",
    "#Le CountVectorizer  va compter la frequence de chaque mots\n",
    "words={'maroc':1,\n",
    " 'a':2,\n",
    " 'beautiful':2,\n",
    " 'country':1,\n",
    " 'with':1,\n",
    " 'history':1\n",
    " }\n",
    "\n",
    "y=words.values()\n",
    "x=words.keys()\n",
    "print(x)\n",
    "print(y)\n",
    "#on utilise matplotlib pour visualiser \n",
    "import matplotlib.pyplot  as plt \n",
    "plt.figure(figsize=(10,8))\n",
    "plt.bar(x,y,align='center')\n",
    "plt.xlabel('words')\n",
    "plt.ylabel('frequency')\n",
    "plt.title('CountVectorizer')\n",
    "plt.show()"
   ]
  },
  {
   "cell_type": "code",
   "execution_count": 135,
   "metadata": {},
   "outputs": [
    {
     "data": {
      "image/png": "[encoded data removed]",
      "text/plain": [
       "<Figure size 1008x720 with 1 Axes>"
      ]
     },
     "metadata": {},
     "output_type": "display_data"
    }
   ],
   "source": [
    "# le meme graph mais on pie \n",
    "plt.figure(figsize=(14,10))\n",
    "plt.pie(y,labels=x,autopct='%0.2f %%',explode=[0,0,0.2,0,0.1,0])\n",
    "plt.axis('equal')\n",
    "plt.title('CountVectorizer dans un format pie')\n",
    "plt.show()"
   ]
  },
  {
   "cell_type": "code",
   "execution_count": 136,
   "metadata": {},
   "outputs": [],
   "source": [
    "\n",
    "from sklearn.feature_extraction.text import CountVectorizer"
   ]
  },
  {
   "cell_type": "code",
   "execution_count": 149,
   "metadata": {},
   "outputs": [
    {
     "name": "stdout",
     "output_type": "stream",
     "text": [
      "True\n"
     ]
    }
   ],
   "source": [
    "#Alors CountVectorizer va convertir  chaque lignes de text en frequence de apparitions \n",
    "v=CountVectorizer()  #instant de CV\n",
    "x=v.fit_transform(df.text)#la conversion du text au nombres comme explique auparavant \n",
    "print(any(x.toarray()[0])) #mets toute le nuombres dans un array,on fait ca pour integre facilement avec notre algorithme"
   ]
  },
  {
   "cell_type": "code",
   "execution_count": null,
   "metadata": {},
   "outputs": [],
   "source": [
    "#le Count Vectorizer est tres import parceque grace a lui on va \n",
    "#detecter la frequence de mots qui apparait dans uns email \n",
    "#spam \n",
    "#Et notre algorithme MultiomialNB va exploiter ca pour classifier\n",
    "#les text qui contient des mots qui frequent beaucoup dans de email spam\n",
    "#"
   ]
  },
  {
   "cell_type": "code",
   "execution_count": null,
   "metadata": {},
   "outputs": [],
   "source": [
    "from sklearn.naive_bayes import MultinomialNB\n",
    "from sklearn.pipeline  import Pipeline\n",
    "from sklearn.model_selection import train_test_split "
   ]
  },
  {
   "cell_type": "code",
   "execution_count": null,
   "metadata": {},
   "outputs": [],
   "source": [
    "#t'train test split' nous pemettre de separer notre dataset en deux partie \n",
    "# la partie pour entrainer , et celui de tester. \n",
    "#Dans notre car on prends 75% pour entrainer et 25% pour tester\n"
   ]
  },
  {
   "cell_type": "code",
   "execution_count": 83,
   "metadata": {},
   "outputs": [
    {
     "name": "stdout",
     "output_type": "stream",
     "text": [
      "1875    Would you like to see my XXX pics they are so ...\n",
      "572                 Do you know where my lab goggles went\n",
      "2729    Urgent Please call 09066612661 from landline. ...\n",
      "4120    Hiya do u like the hlday pics looked horrible ...\n",
      "2989                       Do you still have the grinder?\n",
      "                              ...                        \n",
      "1770    Ha... Both of us doing e same thing. But i got...\n",
      "2976        Don't worry, * is easy once have ingredients!\n",
      "774     I wil be there with in  &lt;#&gt;  minutes. Go...\n",
      "93      Please call our customer service representativ...\n",
      "4189    Mm umma ask vava also to come tell him can pla...\n",
      "Name: text, Length: 4180, dtype: object\n",
      "<class 'pandas.core.series.Series'>\n"
     ]
    }
   ],
   "source": [
    "X_train,X_test,Y_train,Y_test=train_test_split(df.text,df.spam.astype('int'),test_size=0.25)\n",
    "print (X_train)\n",
    "print (type(Y_train))"
   ]
  },
  {
   "cell_type": "code",
   "execution_count": null,
   "metadata": {},
   "outputs": [],
   "source": [
    "#le Pipeline nous permettre de   de utilser notre Count Vectorizer avec notre algorithme machine learning."
   ]
  },
  {
   "cell_type": "code",
   "execution_count": 88,
   "metadata": {},
   "outputs": [],
   "source": [
    "clf=Pipeline([('vectorizer',CountVectorizer()),('nb',MultinomialNB())])#instant"
   ]
  },
  {
   "cell_type": "code",
   "execution_count": 89,
   "metadata": {},
   "outputs": [
    {
     "data": {
      "text/plain": [
       "Pipeline(memory=None,\n",
       "         steps=[('vectorizer',\n",
       "                 CountVectorizer(analyzer='word', binary=False,\n",
       "                                 decode_error='strict',\n",
       "                                 dtype=<class 'numpy.int64'>, encoding='utf-8',\n",
       "                                 input='content', lowercase=True, max_df=1.0,\n",
       "                                 max_features=None, min_df=1,\n",
       "                                 ngram_range=(1, 1), preprocessor=None,\n",
       "                                 stop_words=None, strip_accents=None,\n",
       "                                 token_pattern='(?u)\\\\b\\\\w\\\\w+\\\\b',\n",
       "                                 tokenizer=None, vocabulary=None)),\n",
       "                ('nb',\n",
       "                 MultinomialNB(alpha=1.0, class_prior=None, fit_prior=True))],\n",
       "         verbose=False)"
      ]
     },
     "execution_count": 89,
     "metadata": {},
     "output_type": "execute_result"
    }
   ],
   "source": [
    "clf.fit(X_train,Y_train) # on entraine notre model"
   ]
  },
  {
   "cell_type": "code",
   "execution_count": 90,
   "metadata": {},
   "outputs": [
    {
     "data": {
      "text/plain": [
       "0.9820659971305595"
      ]
     },
     "execution_count": 90,
     "metadata": {},
     "output_type": "execute_result"
    }
   ],
   "source": [
    "clf.score(X_test,Y_test)#on a tester notre model , qui a plus que 98%.Qui est tres bon"
   ]
  },
  {
   "cell_type": "code",
   "execution_count": 150,
   "metadata": {},
   "outputs": [
    {
     "data": {
      "text/plain": [
       "array([1, 0])"
      ]
     },
     "execution_count": 150,
     "metadata": {},
     "output_type": "execute_result"
    }
   ],
   "source": [
    "d=['you got 50% discount huraay','am home']# on donne les examples qui n'etaient pas present dans le dataset\n",
    "clf.predict(d) # on fait la prediction "
   ]
  },
  {
   "cell_type": "code",
   "execution_count": null,
   "metadata": {},
   "outputs": [],
   "source": []
  }
 ],
 "metadata": {
  "kernelspec": {
   "display_name": "Python 3",
   "language": "python",
   "name": "python3"
  },
  "language_info": {
   "codemirror_mode": {
    "name": "ipython",
    "version": 3
   },
   "file_extension": ".py",
   "mimetype": "text/x-python",
   "name": "python",
   "nbconvert_exporter": "python",
   "pygments_lexer": "ipython3",
   "version": "3.7.2"
  }
 },
 "nbformat": 4,
 "nbformat_minor": 4
}
